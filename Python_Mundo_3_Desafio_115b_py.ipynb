{
  "nbformat": 4,
  "nbformat_minor": 0,
  "metadata": {
    "colab": {
      "provenance": [],
      "mount_file_id": "1NERYzAnPs1FwQpmx-2Zo3e8BrhjBY5xK",
      "authorship_tag": "ABX9TyOBlxZBfqvifMwfnkDOEzKA",
      "include_colab_link": true
    },
    "kernelspec": {
      "name": "python3",
      "display_name": "Python 3"
    },
    "language_info": {
      "name": "python"
    }
  },
  "cells": [
    {
      "cell_type": "markdown",
      "metadata": {
        "id": "view-in-github",
        "colab_type": "text"
      },
      "source": [
        "<a href=\"https://colab.research.google.com/github/Rodzeymer/DataScience-Python-Mundo-3/blob/main/Python_Mundo_3_Desafio_115b_py.ipynb\" target=\"_parent\"><img src=\"https://colab.research.google.com/assets/colab-badge.svg\" alt=\"Open In Colab\"/></a>"
      ]
    },
    {
      "cell_type": "code",
      "execution_count": 19,
      "metadata": {
        "colab": {
          "base_uri": "https://localhost:8080/",
          "height": 436
        },
        "id": "qNHvq5lSeCRn",
        "outputId": "085715c9-7457-4532-ee2e-e607395cb53c"
      },
      "outputs": [
        {
          "output_type": "stream",
          "name": "stdout",
          "text": [
            "******************************\n",
            "Python Mundo 3 - Desafio 115a \n",
            "******************************\n"
          ]
        },
        {
          "output_type": "error",
          "ename": "ModuleNotFoundError",
          "evalue": "No module named 'desafio113'",
          "traceback": [
            "\u001b[0;31m---------------------------------------------------------------------------\u001b[0m",
            "\u001b[0;31mModuleNotFoundError\u001b[0m                       Traceback (most recent call last)",
            "\u001b[0;32m<ipython-input-19-48890d1a4764>\u001b[0m in \u001b[0;36m<cell line: 16>\u001b[0;34m()\u001b[0m\n\u001b[1;32m     14\u001b[0m \u001b[0mprint\u001b[0m\u001b[0;34m(\u001b[0m\u001b[0;34m'*'\u001b[0m \u001b[0;34m*\u001b[0m\u001b[0;36m30\u001b[0m\u001b[0;34m)\u001b[0m\u001b[0;34m\u001b[0m\u001b[0;34m\u001b[0m\u001b[0m\n\u001b[1;32m     15\u001b[0m \u001b[0;34m\u001b[0m\u001b[0m\n\u001b[0;32m---> 16\u001b[0;31m \u001b[0;32mfrom\u001b[0m \u001b[0mdesafio113\u001b[0m\u001b[0;34m.\u001b[0m\u001b[0mlib\u001b[0m\u001b[0;34m.\u001b[0m\u001b[0marquivo\u001b[0m \u001b[0;32mimport\u001b[0m \u001b[0;34m*\u001b[0m\u001b[0;34m\u001b[0m\u001b[0;34m\u001b[0m\u001b[0m\n\u001b[0m\u001b[1;32m     17\u001b[0m \u001b[0;32mfrom\u001b[0m \u001b[0mtime\u001b[0m \u001b[0;32mimport\u001b[0m \u001b[0msleep\u001b[0m\u001b[0;34m\u001b[0m\u001b[0;34m\u001b[0m\u001b[0m\n\u001b[1;32m     18\u001b[0m \u001b[0;34m\u001b[0m\u001b[0m\n",
            "\u001b[0;31mModuleNotFoundError\u001b[0m: No module named 'desafio113'",
            "",
            "\u001b[0;31m---------------------------------------------------------------------------\u001b[0;32m\nNOTE: If your import is failing due to a missing package, you can\nmanually install dependencies using either !pip or !apt.\n\nTo view examples of installing some common dependencies, click the\n\"Open Examples\" button below.\n\u001b[0;31m---------------------------------------------------------------------------\u001b[0m\n"
          ],
          "errorDetails": {
            "actions": [
              {
                "action": "open_url",
                "actionText": "Open Examples",
                "url": "/notebooks/snippets/importing_libraries.ipynb"
              }
            ]
          }
        }
      ],
      "source": [
        "# Esse desafio, na verdade nessa primeira parte do Desafio 115, reuniu muito do conhecimento dos\n",
        "# mundos 2 e 3 de Python, tendo que criar novas funções e reaproveitando outras já feitas, para\n",
        "# que o sistema proposto funcione corretamente.\n",
        "\n",
        "# Primeiro criamos a função linhas() que imprime uma linha divisória, que funciona junto com a\n",
        "# função cabeçalho para construir os cabeçalhos dos sistemas de forma padronizada, em seguida\n",
        "# temos o reaproveitamento a função leiaInt() do desafio 113 dentro de uma nova função que é a\n",
        "# função menu() que imprime o menu com o auxílio da função cabeçalho e solicita uma entrada do\n",
        "# usuário, qual a opção do menu, e a valida com o uso da função leiaInt(), imprimindo o nome\n",
        "# da opção como cabeçalho.\n",
        "\n",
        "print('*' *30)\n",
        "print(f\"{'Python Mundo 3 - Desafio 115a' :^30}\")\n",
        "print('*' *30)\n",
        "\n",
        "from desafio113.lib.arquivo import *\n",
        "from time import sleep\n",
        "\n",
        "def linhas(tam=45):\n",
        "    \"\"\"Essa função tem a função simples de imprimir uma linha composta por 45 traços, para ser\n",
        "    usado como linhas separadoras nos cabeçalhos.\n",
        "    :return: retorna uma linha com 45 traços\n",
        "    \"\"\"\n",
        "    return '-' * tam\n",
        "\n",
        "def cabeçalho(txt):\n",
        "    \"\"\"Essa função pega a linha da função linhas() e coloca um texto centralizado no meio de\n",
        "    duas linhas.\n",
        "    :parametro txt: É a entrada do texto que irá ficar centralizado e entre as linhas\n",
        "    :return: Os prints com o cabeçalho construido.\n",
        "    \"\"\"\n",
        "    print(linhas())\n",
        "    print(txt.center(42))\n",
        "    print(linhas())\n",
        "\n",
        "\n",
        "def menu(listaOpcoes):\n",
        "    \"\"\"Lista as opções do Menu Principal com a formatação configurada pelo sistema, após isso\n",
        "    é solicitado ao usuário a entrada de uma das opções, sendo retornada a impressão do menu\n",
        "    correspondente.\n",
        "    :paramêtro listaOpcoes: pega as opções para imprimir a lista de opções\n",
        "    :return: retorna a resposta solicitada pelo sistema para imprimir a opção desejada, validada\n",
        "    pela função leiaInt()\n",
        "    \"\"\"\n",
        "    cabeçalho('Menu Principal')\n",
        "    contador = 1\n",
        "    for item in listaOpcoes:\n",
        "        print(f\"  {contador} - {item}\")\n",
        "        contador+=1\n",
        "    print(linhas())\n",
        "    resposta = leiaInt('Sua opção: ')# desafio 113\n",
        "    return resposta\n",
        "\n",
        "cabeçalho('Sistema de Arquivo 3.14p')\n",
        "\n",
        "\n",
        "while True:\n",
        "    resposta = menu(['Criar Arquivo','Cadastrar Pessoas','Listar Pessoas', 'Sair do Sistema'])\n",
        "    if resposta == 1:\n",
        "        cabeçalho('Criar Arquivo')\n",
        "    elif resposta == 2:\n",
        "        cabeçalho('Cadastrar Pessoas')\n",
        "    elif resposta == 3:\n",
        "        cabeçalho('Listar Pessoas') #583072997\n",
        "    elif resposta == 4:\n",
        "        cabeçalho('Sair do Sistema')\n",
        "        break\n",
        "    else:\n",
        "        print('ERRO! Digite uma opção válida')\n",
        "    sleep(2)\n",
        "\n",
        "print('*' *30)\n",
        "print(f\"{'FIM':^30}\")\n",
        "print('*' *30)"
      ]
    }
  ]
}